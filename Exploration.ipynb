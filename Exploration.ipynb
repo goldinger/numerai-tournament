{
 "cells": [
  {
   "cell_type": "code",
   "execution_count": 15,
   "metadata": {},
   "outputs": [
    {
     "data": {
      "text/plain": [
       "True"
      ]
     },
     "execution_count": 15,
     "metadata": {},
     "output_type": "execute_result"
    }
   ],
   "source": [
    "from dotenv import load_dotenv\n",
    "import pandas as pd\n",
    "import numerapi\n",
    "import os\n",
    "load_dotenv()"
   ]
  },
  {
   "cell_type": "code",
   "execution_count": 19,
   "metadata": {},
   "outputs": [
    {
     "ename": "ModuleNotFoundError",
     "evalue": "No module named 'scipy'",
     "output_type": "error",
     "traceback": [
      "\u001b[1;31m---------------------------------------------------------------------------\u001b[0m",
      "\u001b[1;31mModuleNotFoundError\u001b[0m                       Traceback (most recent call last)",
      "\u001b[1;32md:\\Projects\\numerai-tournament\\Exploration.ipynb Cell 2'\u001b[0m in \u001b[0;36m<cell line: 1>\u001b[1;34m()\u001b[0m\n\u001b[1;32m----> <a href='vscode-notebook-cell:/d%3A/Projects/numerai-tournament/Exploration.ipynb#ch0000007?line=0'>1</a>\u001b[0m \u001b[39mfrom\u001b[39;00m \u001b[39mutils\u001b[39;00m \u001b[39mimport\u001b[39;00m (\n\u001b[0;32m      <a href='vscode-notebook-cell:/d%3A/Projects/numerai-tournament/Exploration.ipynb#ch0000007?line=1'>2</a>\u001b[0m     save_model,\n\u001b[0;32m      <a href='vscode-notebook-cell:/d%3A/Projects/numerai-tournament/Exploration.ipynb#ch0000007?line=2'>3</a>\u001b[0m     load_model,\n\u001b[0;32m      <a href='vscode-notebook-cell:/d%3A/Projects/numerai-tournament/Exploration.ipynb#ch0000007?line=3'>4</a>\u001b[0m     neutralize,\n\u001b[0;32m      <a href='vscode-notebook-cell:/d%3A/Projects/numerai-tournament/Exploration.ipynb#ch0000007?line=4'>5</a>\u001b[0m     get_biggest_change_features,\n\u001b[0;32m      <a href='vscode-notebook-cell:/d%3A/Projects/numerai-tournament/Exploration.ipynb#ch0000007?line=5'>6</a>\u001b[0m     validation_metrics,\n\u001b[0;32m      <a href='vscode-notebook-cell:/d%3A/Projects/numerai-tournament/Exploration.ipynb#ch0000007?line=6'>7</a>\u001b[0m     ERA_COL,\n\u001b[0;32m      <a href='vscode-notebook-cell:/d%3A/Projects/numerai-tournament/Exploration.ipynb#ch0000007?line=7'>8</a>\u001b[0m     DATA_TYPE_COL,\n\u001b[0;32m      <a href='vscode-notebook-cell:/d%3A/Projects/numerai-tournament/Exploration.ipynb#ch0000007?line=8'>9</a>\u001b[0m     TARGET_COL,\n\u001b[0;32m     <a href='vscode-notebook-cell:/d%3A/Projects/numerai-tournament/Exploration.ipynb#ch0000007?line=9'>10</a>\u001b[0m     EXAMPLE_PREDS_COL\n\u001b[0;32m     <a href='vscode-notebook-cell:/d%3A/Projects/numerai-tournament/Exploration.ipynb#ch0000007?line=10'>11</a>\u001b[0m )\n",
      "File \u001b[1;32md:\\Projects\\numerai-tournament\\utils.py:5\u001b[0m, in \u001b[0;36m<module>\u001b[1;34m\u001b[0m\n\u001b[0;32m      <a href='file:///d%3A/Projects/numerai-tournament/utils.py?line=2'>3</a>\u001b[0m \u001b[39mimport\u001b[39;00m \u001b[39mnumpy\u001b[39;00m \u001b[39mas\u001b[39;00m \u001b[39mnp\u001b[39;00m\n\u001b[0;32m      <a href='file:///d%3A/Projects/numerai-tournament/utils.py?line=3'>4</a>\u001b[0m \u001b[39mimport\u001b[39;00m \u001b[39mpandas\u001b[39;00m \u001b[39mas\u001b[39;00m \u001b[39mpd\u001b[39;00m\n\u001b[1;32m----> <a href='file:///d%3A/Projects/numerai-tournament/utils.py?line=4'>5</a>\u001b[0m \u001b[39mimport\u001b[39;00m \u001b[39mscipy\u001b[39;00m\n\u001b[0;32m      <a href='file:///d%3A/Projects/numerai-tournament/utils.py?line=5'>6</a>\u001b[0m \u001b[39mfrom\u001b[39;00m \u001b[39mhalo\u001b[39;00m \u001b[39mimport\u001b[39;00m Halo\n\u001b[0;32m      <a href='file:///d%3A/Projects/numerai-tournament/utils.py?line=6'>7</a>\u001b[0m \u001b[39mfrom\u001b[39;00m \u001b[39mpathlib\u001b[39;00m \u001b[39mimport\u001b[39;00m Path\n",
      "\u001b[1;31mModuleNotFoundError\u001b[0m: No module named 'scipy'"
     ]
    }
   ],
   "source": [
    "from utils import (\n",
    "    save_model,\n",
    "    load_model,\n",
    "    neutralize,\n",
    "    get_biggest_change_features,\n",
    "    validation_metrics,\n",
    "    ERA_COL,\n",
    "    DATA_TYPE_COL,\n",
    "    TARGET_COL,\n",
    "    EXAMPLE_PREDS_COL\n",
    ")"
   ]
  },
  {
   "cell_type": "code",
   "execution_count": 16,
   "metadata": {},
   "outputs": [],
   "source": [
    "public_id = os.environ.get(\"NUMERAI_PUBLIC_KEY\")\n",
    "secret_key = os.environ.get(\"NUMERAI_SECRET_KEY\")\n",
    "napi = numerapi.NumerAPI(public_id, secret_key)"
   ]
  },
  {
   "cell_type": "code",
   "execution_count": 17,
   "metadata": {},
   "outputs": [
    {
     "name": "stderr",
     "output_type": "stream",
     "text": [
      "2022-03-13 18:06:05,918 DEBUG numerapi.base_api: {'query': '\\n            query($tournament: Int!) {\\n              rounds(tournament: $tournament\\n                     number: 0) {\\n                number\\n              }\\n            }\\n        ', 'variables': {'tournament': 8}}\n",
      "2022-03-13 18:06:05,921 DEBUG urllib3.connectionpool: Starting new HTTPS connection (1): api-tournament.numer.ai:443\n",
      "2022-03-13 18:06:06,157 DEBUG urllib3.connectionpool: https://api-tournament.numer.ai:443 \"POST / HTTP/1.1\" 200 56\n"
     ]
    },
    {
     "name": "stdout",
     "output_type": "stream",
     "text": [
      "Downloading dataset files...\n"
     ]
    }
   ],
   "source": [
    "\n",
    "current_round = napi.get_current_round()\n",
    "\n",
    "# Tournament data changes every week so we specify the round in their name. Training\n",
    "# and validation data only change periodically, so no need to download them every time.\n",
    "print('Downloading dataset files...')\n",
    "# napi.download_dataset(\"numerai_training_data.parquet\", \"data/training_data.parquet\")\n",
    "# napi.download_dataset(\"numerai_tournament_data.parquet\", f\"data/tournament_data_{current_round}.parquet\")\n",
    "# napi.download_dataset(\"numerai_validation_data.parquet\", f\"data/validation_data.parquet\")\n",
    "# napi.download_dataset(\"example_validation_predictions.parquet\", \"data/example_validation_predictions.parquet\")\n",
    "# napi.download_dataset(\"features.json\", \"data/features.json\")"
   ]
  },
  {
   "cell_type": "code",
   "execution_count": 18,
   "metadata": {},
   "outputs": [
    {
     "data": {
      "text/plain": [
       "307"
      ]
     },
     "execution_count": 18,
     "metadata": {},
     "output_type": "execute_result"
    }
   ],
   "source": [
    "\n",
    "print('Reading minimal training data')\n",
    "# read the feature metadata and get the \"small\" feature set\n",
    "with open(\"features.json\", \"r\") as f:\n",
    "    feature_metadata = json.load(f)\n",
    "features = feature_metadata[\"feature_sets\"][\"small\"]\n",
    "# read in just those features along with era and target columns\n",
    "read_columns = features + [ERA_COL, DATA_TYPE_COL, TARGET_COL]"
   ]
  },
  {
   "cell_type": "code",
   "execution_count": 9,
   "metadata": {},
   "outputs": [
    {
     "name": "stderr",
     "output_type": "stream",
     "text": [
      "2022-03-13 16:38:53,622 INFO numerapi.base_api: getting rounds...\n",
      "2022-03-13 16:38:53,623 DEBUG numerapi.base_api: {'query': '\\n            query($tournament: Int!) {\\n              rounds(tournament: $tournament) {\\n                number\\n                resolveTime\\n                openTime\\n                resolvedGeneral\\n                resolvedStaking\\n              }\\n            }\\n        ', 'variables': {'tournament': 8}}\n",
      "2022-03-13 16:38:53,625 DEBUG urllib3.connectionpool: Starting new HTTPS connection (1): api-tournament.numer.ai:443\n",
      "2022-03-13 16:38:53,937 DEBUG urllib3.connectionpool: https://api-tournament.numer.ai:443 \"POST / HTTP/1.1\" 200 1659\n",
      "2022-03-13 16:38:53,962 DEBUG numerapi.base_api: {'query': '\\n            query($limit: Int!\\n                  $offset: Int!) {\\n              v2Leaderboard(limit: $limit\\n                            offset: $offset) {\\n                bonusPerc\\n                nmrStaked\\n                oldStakeValue\\n                prevRank\\n                prevStakedRank\\n                rank\\n                stakedRank\\n                reputation\\n                rolling_score_rep\\n                tier\\n                username\\n                leaderboardBonus\\n                averageCorrelationPayout\\n                payoutPending\\n                payoutSettled\\n                badges\\n              }\\n            }\\n        ', 'variables': {'limit': 50, 'offset': 0}}\n",
      "2022-03-13 16:38:53,965 DEBUG urllib3.connectionpool: Starting new HTTPS connection (1): api-tournament.numer.ai:443\n",
      "2022-03-13 16:38:54,790 DEBUG urllib3.connectionpool: https://api-tournament.numer.ai:443 \"POST / HTTP/1.1\" 200 2818\n",
      "2022-03-13 16:38:54,793 DEBUG numerapi.base_api: {'query': '\\n            query($tournament: Int!) {\\n              rounds(tournament: $tournament\\n                     number: 0) {\\n                number\\n                openTime\\n              }\\n            }\\n        ', 'variables': {'tournament': 8}}\n",
      "2022-03-13 16:38:54,798 DEBUG urllib3.connectionpool: Starting new HTTPS connection (1): api-tournament.numer.ai:443\n",
      "2022-03-13 16:38:55,083 DEBUG urllib3.connectionpool: https://api-tournament.numer.ai:443 \"POST / HTTP/1.1\" 200 88\n"
     ]
    },
    {
     "name": "stdout",
     "output_type": "stream",
     "text": [
      "new round has started within the last 24hours!\n"
     ]
    }
   ],
   "source": [
    "# get competitions\n",
    "all_competitions = napi.get_competitions()\n",
    "# get current leaderboard\n",
    "leaderboard = napi.get_leaderboard()\n",
    "# check if a new round has started\n",
    "if napi.check_new_round():\n",
    "    print(\"new round has started within the last 24hours!\")\n",
    "else:\n",
    "    print(\"no new round within the last 24 hours\")"
   ]
  },
  {
   "cell_type": "code",
   "execution_count": 11,
   "metadata": {},
   "outputs": [
    {
     "data": {
      "text/html": [
       "<div>\n",
       "<style scoped>\n",
       "    .dataframe tbody tr th:only-of-type {\n",
       "        vertical-align: middle;\n",
       "    }\n",
       "\n",
       "    .dataframe tbody tr th {\n",
       "        vertical-align: top;\n",
       "    }\n",
       "\n",
       "    .dataframe thead th {\n",
       "        text-align: right;\n",
       "    }\n",
       "</style>\n",
       "<table border=\"1\" class=\"dataframe\">\n",
       "  <thead>\n",
       "    <tr style=\"text-align: right;\">\n",
       "      <th></th>\n",
       "      <th>number</th>\n",
       "      <th>openTime</th>\n",
       "      <th>resolveTime</th>\n",
       "      <th>resolvedGeneral</th>\n",
       "      <th>resolvedStaking</th>\n",
       "    </tr>\n",
       "  </thead>\n",
       "  <tbody>\n",
       "    <tr>\n",
       "      <th>0</th>\n",
       "      <td>307</td>\n",
       "      <td>2022-03-12 18:00:00+00:00</td>\n",
       "      <td>2022-04-14 20:00:00+00:00</td>\n",
       "      <td>False</td>\n",
       "      <td>False</td>\n",
       "    </tr>\n",
       "    <tr>\n",
       "      <th>1</th>\n",
       "      <td>306</td>\n",
       "      <td>2022-03-05 18:00:00+00:00</td>\n",
       "      <td>2022-04-07 20:00:00+00:00</td>\n",
       "      <td>False</td>\n",
       "      <td>False</td>\n",
       "    </tr>\n",
       "    <tr>\n",
       "      <th>2</th>\n",
       "      <td>305</td>\n",
       "      <td>2022-02-26 18:00:00+00:00</td>\n",
       "      <td>2022-03-31 20:00:00+00:00</td>\n",
       "      <td>False</td>\n",
       "      <td>False</td>\n",
       "    </tr>\n",
       "    <tr>\n",
       "      <th>3</th>\n",
       "      <td>304</td>\n",
       "      <td>2022-02-19 18:00:00+00:00</td>\n",
       "      <td>2022-03-24 20:00:00+00:00</td>\n",
       "      <td>False</td>\n",
       "      <td>False</td>\n",
       "    </tr>\n",
       "    <tr>\n",
       "      <th>4</th>\n",
       "      <td>303</td>\n",
       "      <td>2022-02-12 18:00:00+00:00</td>\n",
       "      <td>2022-03-17 20:00:00+00:00</td>\n",
       "      <td>False</td>\n",
       "      <td>False</td>\n",
       "    </tr>\n",
       "    <tr>\n",
       "      <th>...</th>\n",
       "      <td>...</td>\n",
       "      <td>...</td>\n",
       "      <td>...</td>\n",
       "      <td>...</td>\n",
       "      <td>...</td>\n",
       "    </tr>\n",
       "    <tr>\n",
       "      <th>135</th>\n",
       "      <td>172</td>\n",
       "      <td>2019-08-10 18:00:00+00:00</td>\n",
       "      <td>2019-09-11 20:00:00+00:00</td>\n",
       "      <td>True</td>\n",
       "      <td>True</td>\n",
       "    </tr>\n",
       "    <tr>\n",
       "      <th>136</th>\n",
       "      <td>171</td>\n",
       "      <td>2019-08-03 18:00:00+00:00</td>\n",
       "      <td>2019-09-04 20:00:00+00:00</td>\n",
       "      <td>True</td>\n",
       "      <td>True</td>\n",
       "    </tr>\n",
       "    <tr>\n",
       "      <th>137</th>\n",
       "      <td>170</td>\n",
       "      <td>2019-07-27 18:00:00+00:00</td>\n",
       "      <td>2019-08-27 20:00:00+00:00</td>\n",
       "      <td>True</td>\n",
       "      <td>True</td>\n",
       "    </tr>\n",
       "    <tr>\n",
       "      <th>138</th>\n",
       "      <td>169</td>\n",
       "      <td>2019-07-20 18:00:00+00:00</td>\n",
       "      <td>2019-08-20 20:00:00+00:00</td>\n",
       "      <td>True</td>\n",
       "      <td>True</td>\n",
       "    </tr>\n",
       "    <tr>\n",
       "      <th>139</th>\n",
       "      <td>168</td>\n",
       "      <td>2019-07-13 18:00:00+00:00</td>\n",
       "      <td>2019-08-13 20:00:00+00:00</td>\n",
       "      <td>True</td>\n",
       "      <td>True</td>\n",
       "    </tr>\n",
       "  </tbody>\n",
       "</table>\n",
       "<p>140 rows × 5 columns</p>\n",
       "</div>"
      ],
      "text/plain": [
       "     number                  openTime               resolveTime  \\\n",
       "0       307 2022-03-12 18:00:00+00:00 2022-04-14 20:00:00+00:00   \n",
       "1       306 2022-03-05 18:00:00+00:00 2022-04-07 20:00:00+00:00   \n",
       "2       305 2022-02-26 18:00:00+00:00 2022-03-31 20:00:00+00:00   \n",
       "3       304 2022-02-19 18:00:00+00:00 2022-03-24 20:00:00+00:00   \n",
       "4       303 2022-02-12 18:00:00+00:00 2022-03-17 20:00:00+00:00   \n",
       "..      ...                       ...                       ...   \n",
       "135     172 2019-08-10 18:00:00+00:00 2019-09-11 20:00:00+00:00   \n",
       "136     171 2019-08-03 18:00:00+00:00 2019-09-04 20:00:00+00:00   \n",
       "137     170 2019-07-27 18:00:00+00:00 2019-08-27 20:00:00+00:00   \n",
       "138     169 2019-07-20 18:00:00+00:00 2019-08-20 20:00:00+00:00   \n",
       "139     168 2019-07-13 18:00:00+00:00 2019-08-13 20:00:00+00:00   \n",
       "\n",
       "     resolvedGeneral  resolvedStaking  \n",
       "0              False            False  \n",
       "1              False            False  \n",
       "2              False            False  \n",
       "3              False            False  \n",
       "4              False            False  \n",
       "..               ...              ...  \n",
       "135             True             True  \n",
       "136             True             True  \n",
       "137             True             True  \n",
       "138             True             True  \n",
       "139             True             True  \n",
       "\n",
       "[140 rows x 5 columns]"
      ]
     },
     "execution_count": 11,
     "metadata": {},
     "output_type": "execute_result"
    }
   ],
   "source": [
    "pd.DataFrame(all_competitions)"
   ]
  },
  {
   "cell_type": "code",
   "execution_count": null,
   "metadata": {},
   "outputs": [],
   "source": []
  }
 ],
 "metadata": {
  "interpreter": {
   "hash": "a4f9bb9be7857ddc1c773a2e4a9cd23aafe0750b569e0870abf8bddbbd312317"
  },
  "kernelspec": {
   "display_name": "Python 3.10.2 ('venv': venv)",
   "language": "python",
   "name": "python3"
  },
  "language_info": {
   "codemirror_mode": {
    "name": "ipython",
    "version": 3
   },
   "file_extension": ".py",
   "mimetype": "text/x-python",
   "name": "python",
   "nbconvert_exporter": "python",
   "pygments_lexer": "ipython3",
   "version": "3.10.2"
  },
  "orig_nbformat": 4
 },
 "nbformat": 4,
 "nbformat_minor": 2
}
